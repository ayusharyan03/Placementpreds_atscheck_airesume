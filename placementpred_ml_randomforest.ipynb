{
 "cells": [
  {
   "cell_type": "code",
   "execution_count": 1,
   "id": "0431fb55-46c2-4c36-a02c-8534a3365b33",
   "metadata": {},
   "outputs": [],
   "source": [
    "import pandas as pd \n",
    "import numpy as np \n",
    "import matplotlib.pyplot as plt \n"
   ]
  },
  {
   "cell_type": "code",
   "execution_count": 4,
   "id": "f26fb255-45dc-4eb8-9ef9-e4fbd39bb7df",
   "metadata": {},
   "outputs": [],
   "source": [
    "df = pd.read_csv(\"placement-dataset.csv\")"
   ]
  },
  {
   "cell_type": "code",
   "execution_count": 5,
   "id": "43d16c5e-c90e-46b9-b385-5952b1422e99",
   "metadata": {},
   "outputs": [
    {
     "data": {
      "text/html": [
       "<div>\n",
       "<style scoped>\n",
       "    .dataframe tbody tr th:only-of-type {\n",
       "        vertical-align: middle;\n",
       "    }\n",
       "\n",
       "    .dataframe tbody tr th {\n",
       "        vertical-align: top;\n",
       "    }\n",
       "\n",
       "    .dataframe thead th {\n",
       "        text-align: right;\n",
       "    }\n",
       "</style>\n",
       "<table border=\"1\" class=\"dataframe\">\n",
       "  <thead>\n",
       "    <tr style=\"text-align: right;\">\n",
       "      <th></th>\n",
       "      <th>Unnamed: 0</th>\n",
       "      <th>cgpa</th>\n",
       "      <th>iq</th>\n",
       "      <th>placement</th>\n",
       "    </tr>\n",
       "  </thead>\n",
       "  <tbody>\n",
       "    <tr>\n",
       "      <th>0</th>\n",
       "      <td>0</td>\n",
       "      <td>6.8</td>\n",
       "      <td>123.0</td>\n",
       "      <td>1</td>\n",
       "    </tr>\n",
       "    <tr>\n",
       "      <th>1</th>\n",
       "      <td>1</td>\n",
       "      <td>5.9</td>\n",
       "      <td>106.0</td>\n",
       "      <td>0</td>\n",
       "    </tr>\n",
       "    <tr>\n",
       "      <th>2</th>\n",
       "      <td>2</td>\n",
       "      <td>5.3</td>\n",
       "      <td>121.0</td>\n",
       "      <td>0</td>\n",
       "    </tr>\n",
       "    <tr>\n",
       "      <th>3</th>\n",
       "      <td>3</td>\n",
       "      <td>7.4</td>\n",
       "      <td>132.0</td>\n",
       "      <td>1</td>\n",
       "    </tr>\n",
       "    <tr>\n",
       "      <th>4</th>\n",
       "      <td>4</td>\n",
       "      <td>5.8</td>\n",
       "      <td>142.0</td>\n",
       "      <td>0</td>\n",
       "    </tr>\n",
       "    <tr>\n",
       "      <th>...</th>\n",
       "      <td>...</td>\n",
       "      <td>...</td>\n",
       "      <td>...</td>\n",
       "      <td>...</td>\n",
       "    </tr>\n",
       "    <tr>\n",
       "      <th>95</th>\n",
       "      <td>95</td>\n",
       "      <td>4.3</td>\n",
       "      <td>200.0</td>\n",
       "      <td>0</td>\n",
       "    </tr>\n",
       "    <tr>\n",
       "      <th>96</th>\n",
       "      <td>96</td>\n",
       "      <td>4.4</td>\n",
       "      <td>42.0</td>\n",
       "      <td>0</td>\n",
       "    </tr>\n",
       "    <tr>\n",
       "      <th>97</th>\n",
       "      <td>97</td>\n",
       "      <td>6.7</td>\n",
       "      <td>182.0</td>\n",
       "      <td>1</td>\n",
       "    </tr>\n",
       "    <tr>\n",
       "      <th>98</th>\n",
       "      <td>98</td>\n",
       "      <td>6.3</td>\n",
       "      <td>103.0</td>\n",
       "      <td>1</td>\n",
       "    </tr>\n",
       "    <tr>\n",
       "      <th>99</th>\n",
       "      <td>99</td>\n",
       "      <td>6.2</td>\n",
       "      <td>113.0</td>\n",
       "      <td>1</td>\n",
       "    </tr>\n",
       "  </tbody>\n",
       "</table>\n",
       "<p>100 rows × 4 columns</p>\n",
       "</div>"
      ],
      "text/plain": [
       "    Unnamed: 0  cgpa     iq  placement\n",
       "0            0   6.8  123.0          1\n",
       "1            1   5.9  106.0          0\n",
       "2            2   5.3  121.0          0\n",
       "3            3   7.4  132.0          1\n",
       "4            4   5.8  142.0          0\n",
       "..         ...   ...    ...        ...\n",
       "95          95   4.3  200.0          0\n",
       "96          96   4.4   42.0          0\n",
       "97          97   6.7  182.0          1\n",
       "98          98   6.3  103.0          1\n",
       "99          99   6.2  113.0          1\n",
       "\n",
       "[100 rows x 4 columns]"
      ]
     },
     "execution_count": 5,
     "metadata": {},
     "output_type": "execute_result"
    }
   ],
   "source": [
    "df"
   ]
  },
  {
   "cell_type": "code",
   "execution_count": 7,
   "id": "479fa980-5b9c-4b78-bb70-0ef7b99c089f",
   "metadata": {},
   "outputs": [
    {
     "name": "stdout",
     "output_type": "stream",
     "text": [
      "Minimum CGPA: 3.3\n",
      "Maximum CGPA: 8.5\n",
      "CGPA Range: 5.2\n"
     ]
    }
   ],
   "source": [
    "# Check first few rows to confirm column name\n",
    "df.head()\n",
    "\n",
    "# Minimum CGPA\n",
    "min_cgpa = df['cgpa'].min()\n",
    "print(\"Minimum CGPA:\", min_cgpa)\n",
    "\n",
    "# Maximum CGPA\n",
    "max_cgpa = df['cgpa'].max()\n",
    "print(\"Maximum CGPA:\", max_cgpa)\n",
    "\n",
    "# CGPA range (max - min)\n",
    "cgpa_range = max_cgpa - min_cgpa\n",
    "print(\"CGPA Range:\", cgpa_range)\n"
   ]
  },
  {
   "cell_type": "code",
   "execution_count": 9,
   "id": "65624de4-262a-4d4f-81c2-9166c45d6d43",
   "metadata": {},
   "outputs": [
    {
     "name": "stdout",
     "output_type": "stream",
     "text": [
      "     Unnamed: 0  cgpa     iq  placement Branch  Placement\n",
      "95         95.0  4.30  200.0        0.0    NaN        NaN\n",
      "96         96.0  4.40   42.0        0.0    NaN        NaN\n",
      "97         97.0  6.70  182.0        1.0    NaN        NaN\n",
      "98         98.0  6.30  103.0        1.0    NaN        NaN\n",
      "99         99.0  6.20  113.0        1.0    NaN        NaN\n",
      "100         NaN  7.31    NaN        NaN    ECE        0.0\n",
      "101         NaN  9.33    NaN        NaN   AIML        1.0\n",
      "102         NaN  8.56    NaN        NaN   AIML        1.0\n",
      "103         NaN  8.10    NaN        NaN    ECE        1.0\n",
      "104         NaN  6.55    NaN        NaN     CS        0.0\n",
      "105         NaN  6.55    NaN        NaN   AIML        0.0\n",
      "106         NaN  6.20    NaN        NaN    ECE        0.0\n",
      "107         NaN  9.03    NaN        NaN     IT        1.0\n",
      "108         NaN  8.10    NaN        NaN    MAE        1.0\n",
      "109         NaN  8.48    NaN        NaN    ECE        1.0\n",
      "110         NaN  6.07    NaN        NaN     IT        0.0\n",
      "111         NaN  9.39    NaN        NaN   AIML        1.0\n",
      "112         NaN  8.91    NaN        NaN    ECE        1.0\n",
      "113         NaN  6.74    NaN        NaN    ECE        0.0\n",
      "114         NaN  6.64    NaN        NaN    EEE        0.0\n",
      "115         NaN  6.64    NaN        NaN     CS        0.0\n",
      "116         NaN  7.06    NaN        NaN     IT        0.0\n",
      "117         NaN  7.84    NaN        NaN     IT        1.0\n",
      "118         NaN  7.51    NaN        NaN     IT        1.0\n",
      "119         NaN  7.02    NaN        NaN     IT        0.0\n"
     ]
    }
   ],
   "source": [
    "import pandas as pd\n",
    "import numpy as np\n",
    "\n",
    "# Assuming your dataset is loaded\n",
    "# df = pd.read_csv(\"your_dataset.csv\")\n",
    "\n",
    "# Number of rows to add\n",
    "n_new = 20\n",
    "\n",
    "# Initialize new data\n",
    "new_data = pd.DataFrame()\n",
    "\n",
    "# Generate CGPA values (random, upto 9.5)\n",
    "np.random.seed(42)  # for reproducibility\n",
    "new_data['cgpa'] = np.round(np.random.uniform(6.0, 9.5, n_new), 2)\n",
    "\n",
    "# Assign Branch based on your percentage rules\n",
    "branches = []\n",
    "\n",
    "for cgpa in new_data['cgpa']:\n",
    "    rand = np.random.rand()\n",
    "    if rand < 0.55:  # 55% CS/IT/AIML\n",
    "        branches.append(np.random.choice(['CS','IT','AIML']))\n",
    "    elif rand < 0.55 + 0.20:  # 20% ECE\n",
    "        branches.append('ECE')\n",
    "    elif rand < 0.55 + 0.20 + 0.10:  # 10% EEE\n",
    "        branches.append('EEE')\n",
    "    else:  # remaining 15% ME/MAE\n",
    "        branches.append(np.random.choice(['ME','MAE']))\n",
    "\n",
    "new_data['Branch'] = branches\n",
    "\n",
    "# Placement column based on CGPA\n",
    "new_data['Placement'] = np.where(new_data['cgpa'] >= 7.5, 1, 0)\n",
    "\n",
    "# Append to original dataset\n",
    "df = pd.concat([df, new_data], ignore_index=True)\n",
    "\n",
    "# Check the new data\n",
    "print(df.tail(25))\n"
   ]
  },
  {
   "cell_type": "code",
   "execution_count": 12,
   "id": "196a8097-b789-4d57-8628-a43f132274c4",
   "metadata": {},
   "outputs": [
    {
     "name": "stdout",
     "output_type": "stream",
     "text": [
      "Index(['Unnamed: 0', 'cgpa', 'iq', 'placement', 'Branch', 'Placement'], dtype='object')\n",
      "     Unnamed: 0  cgpa     iq  placement Branch  Placement\n",
      "100       100.0  7.31  136.0        NaN    ECE        0.0\n",
      "101       101.0  9.33  149.0        NaN   AIML        1.0\n",
      "102       102.0  8.56  144.0        NaN   AIML        1.0\n",
      "103       103.0  8.10  140.0        NaN    ECE        1.0\n",
      "104       104.0  6.55   97.0        NaN     CS        0.0\n",
      "105       105.0  6.55  110.0        NaN   AIML        0.0\n",
      "106       106.0  6.20  128.0        NaN    ECE        0.0\n",
      "107       107.0  9.03  148.0        NaN     IT        1.0\n",
      "108       108.0  8.10  140.0        NaN    MAE        1.0\n",
      "109       109.0  8.48  140.0        NaN    ECE        1.0\n",
      "110       110.0  6.07  113.0        NaN     IT        0.0\n",
      "111       111.0  9.39  150.0        NaN   AIML        1.0\n",
      "112       112.0  8.91  133.0        NaN    ECE        1.0\n",
      "113       113.0  6.74  129.0        NaN    ECE        0.0\n",
      "114       114.0  6.64  113.0        NaN    EEE        0.0\n",
      "115       115.0  6.64   92.0        NaN     CS        0.0\n",
      "116       116.0  7.06  150.0        NaN     IT        0.0\n",
      "117       117.0  7.84  131.0        NaN     IT        1.0\n",
      "118       118.0  7.51  141.0        NaN     IT        1.0\n",
      "119       119.0  7.02  135.0        NaN     IT        0.0\n"
     ]
    }
   ],
   "source": [
    "# Check all column names\n",
    "print(df.columns)\n",
    "\n",
    "# Suppose the column is the first one and has NaN for new rows\n",
    "# You can fill it by position instead of name\n",
    "df.iloc[100:120, 0] = range(100, 120)\n",
    "\n",
    "# Add IQ column for new rows based on CGPA\n",
    "import numpy as np\n",
    "np.random.seed(42)\n",
    "\n",
    "# Assign IQ: 130+ if CGPA>7 else less than 130\n",
    "df.loc[100:119, 'iq'] = df.loc[100:119, 'cgpa'].apply(\n",
    "    lambda x: np.random.randint(130, 151) if x > 7 else np.random.randint(90, 130)\n",
    ")\n",
    "\n",
    "# Check the new rows\n",
    "print(df.iloc[100:120])\n",
    "\n"
   ]
  },
  {
   "cell_type": "code",
   "execution_count": 13,
   "id": "20d322a3-c7a1-4d65-9348-151fe1931d4b",
   "metadata": {},
   "outputs": [
    {
     "data": {
      "text/html": [
       "<div>\n",
       "<style scoped>\n",
       "    .dataframe tbody tr th:only-of-type {\n",
       "        vertical-align: middle;\n",
       "    }\n",
       "\n",
       "    .dataframe tbody tr th {\n",
       "        vertical-align: top;\n",
       "    }\n",
       "\n",
       "    .dataframe thead th {\n",
       "        text-align: right;\n",
       "    }\n",
       "</style>\n",
       "<table border=\"1\" class=\"dataframe\">\n",
       "  <thead>\n",
       "    <tr style=\"text-align: right;\">\n",
       "      <th></th>\n",
       "      <th>Unnamed: 0</th>\n",
       "      <th>cgpa</th>\n",
       "      <th>iq</th>\n",
       "      <th>placement</th>\n",
       "      <th>Branch</th>\n",
       "      <th>Placement</th>\n",
       "    </tr>\n",
       "  </thead>\n",
       "  <tbody>\n",
       "    <tr>\n",
       "      <th>0</th>\n",
       "      <td>0.0</td>\n",
       "      <td>6.80</td>\n",
       "      <td>123.0</td>\n",
       "      <td>1.0</td>\n",
       "      <td>NaN</td>\n",
       "      <td>NaN</td>\n",
       "    </tr>\n",
       "    <tr>\n",
       "      <th>1</th>\n",
       "      <td>1.0</td>\n",
       "      <td>5.90</td>\n",
       "      <td>106.0</td>\n",
       "      <td>0.0</td>\n",
       "      <td>NaN</td>\n",
       "      <td>NaN</td>\n",
       "    </tr>\n",
       "    <tr>\n",
       "      <th>2</th>\n",
       "      <td>2.0</td>\n",
       "      <td>5.30</td>\n",
       "      <td>121.0</td>\n",
       "      <td>0.0</td>\n",
       "      <td>NaN</td>\n",
       "      <td>NaN</td>\n",
       "    </tr>\n",
       "    <tr>\n",
       "      <th>3</th>\n",
       "      <td>3.0</td>\n",
       "      <td>7.40</td>\n",
       "      <td>132.0</td>\n",
       "      <td>1.0</td>\n",
       "      <td>NaN</td>\n",
       "      <td>NaN</td>\n",
       "    </tr>\n",
       "    <tr>\n",
       "      <th>4</th>\n",
       "      <td>4.0</td>\n",
       "      <td>5.80</td>\n",
       "      <td>142.0</td>\n",
       "      <td>0.0</td>\n",
       "      <td>NaN</td>\n",
       "      <td>NaN</td>\n",
       "    </tr>\n",
       "    <tr>\n",
       "      <th>...</th>\n",
       "      <td>...</td>\n",
       "      <td>...</td>\n",
       "      <td>...</td>\n",
       "      <td>...</td>\n",
       "      <td>...</td>\n",
       "      <td>...</td>\n",
       "    </tr>\n",
       "    <tr>\n",
       "      <th>115</th>\n",
       "      <td>115.0</td>\n",
       "      <td>6.64</td>\n",
       "      <td>92.0</td>\n",
       "      <td>NaN</td>\n",
       "      <td>CS</td>\n",
       "      <td>0.0</td>\n",
       "    </tr>\n",
       "    <tr>\n",
       "      <th>116</th>\n",
       "      <td>116.0</td>\n",
       "      <td>7.06</td>\n",
       "      <td>150.0</td>\n",
       "      <td>NaN</td>\n",
       "      <td>IT</td>\n",
       "      <td>0.0</td>\n",
       "    </tr>\n",
       "    <tr>\n",
       "      <th>117</th>\n",
       "      <td>117.0</td>\n",
       "      <td>7.84</td>\n",
       "      <td>131.0</td>\n",
       "      <td>NaN</td>\n",
       "      <td>IT</td>\n",
       "      <td>1.0</td>\n",
       "    </tr>\n",
       "    <tr>\n",
       "      <th>118</th>\n",
       "      <td>118.0</td>\n",
       "      <td>7.51</td>\n",
       "      <td>141.0</td>\n",
       "      <td>NaN</td>\n",
       "      <td>IT</td>\n",
       "      <td>1.0</td>\n",
       "    </tr>\n",
       "    <tr>\n",
       "      <th>119</th>\n",
       "      <td>119.0</td>\n",
       "      <td>7.02</td>\n",
       "      <td>135.0</td>\n",
       "      <td>NaN</td>\n",
       "      <td>IT</td>\n",
       "      <td>0.0</td>\n",
       "    </tr>\n",
       "  </tbody>\n",
       "</table>\n",
       "<p>120 rows × 6 columns</p>\n",
       "</div>"
      ],
      "text/plain": [
       "     Unnamed: 0  cgpa     iq  placement Branch  Placement\n",
       "0           0.0  6.80  123.0        1.0    NaN        NaN\n",
       "1           1.0  5.90  106.0        0.0    NaN        NaN\n",
       "2           2.0  5.30  121.0        0.0    NaN        NaN\n",
       "3           3.0  7.40  132.0        1.0    NaN        NaN\n",
       "4           4.0  5.80  142.0        0.0    NaN        NaN\n",
       "..          ...   ...    ...        ...    ...        ...\n",
       "115       115.0  6.64   92.0        NaN     CS        0.0\n",
       "116       116.0  7.06  150.0        NaN     IT        0.0\n",
       "117       117.0  7.84  131.0        NaN     IT        1.0\n",
       "118       118.0  7.51  141.0        NaN     IT        1.0\n",
       "119       119.0  7.02  135.0        NaN     IT        0.0\n",
       "\n",
       "[120 rows x 6 columns]"
      ]
     },
     "execution_count": 13,
     "metadata": {},
     "output_type": "execute_result"
    }
   ],
   "source": [
    "df"
   ]
  },
  {
   "cell_type": "code",
   "execution_count": 14,
   "id": "44ee81b4-e4af-4d75-9d5d-77496f90104c",
   "metadata": {},
   "outputs": [
    {
     "data": {
      "text/plain": [
       "<bound method DataFrame.info of      Unnamed: 0  cgpa     iq  placement Branch  Placement\n",
       "0           0.0  6.80  123.0        1.0    NaN        NaN\n",
       "1           1.0  5.90  106.0        0.0    NaN        NaN\n",
       "2           2.0  5.30  121.0        0.0    NaN        NaN\n",
       "3           3.0  7.40  132.0        1.0    NaN        NaN\n",
       "4           4.0  5.80  142.0        0.0    NaN        NaN\n",
       "..          ...   ...    ...        ...    ...        ...\n",
       "115       115.0  6.64   92.0        NaN     CS        0.0\n",
       "116       116.0  7.06  150.0        NaN     IT        0.0\n",
       "117       117.0  7.84  131.0        NaN     IT        1.0\n",
       "118       118.0  7.51  141.0        NaN     IT        1.0\n",
       "119       119.0  7.02  135.0        NaN     IT        0.0\n",
       "\n",
       "[120 rows x 6 columns]>"
      ]
     },
     "execution_count": 14,
     "metadata": {},
     "output_type": "execute_result"
    }
   ],
   "source": [
    "df.info\n"
   ]
  },
  {
   "cell_type": "code",
   "execution_count": 16,
   "id": "4e772574-145f-47fc-b22f-ac359fe88e7c",
   "metadata": {},
   "outputs": [
    {
     "data": {
      "text/plain": [
       "<bound method NDFrame.describe of      Unnamed: 0  cgpa     iq  placement Branch  Placement\n",
       "0           0.0  6.80  123.0        1.0    NaN        NaN\n",
       "1           1.0  5.90  106.0        0.0    NaN        NaN\n",
       "2           2.0  5.30  121.0        0.0    NaN        NaN\n",
       "3           3.0  7.40  132.0        1.0    NaN        NaN\n",
       "4           4.0  5.80  142.0        0.0    NaN        NaN\n",
       "..          ...   ...    ...        ...    ...        ...\n",
       "115       115.0  6.64   92.0        NaN     CS        0.0\n",
       "116       116.0  7.06  150.0        NaN     IT        0.0\n",
       "117       117.0  7.84  131.0        NaN     IT        1.0\n",
       "118       118.0  7.51  141.0        NaN     IT        1.0\n",
       "119       119.0  7.02  135.0        NaN     IT        0.0\n",
       "\n",
       "[120 rows x 6 columns]>"
      ]
     },
     "execution_count": 16,
     "metadata": {},
     "output_type": "execute_result"
    }
   ],
   "source": [
    "df.describe"
   ]
  },
  {
   "cell_type": "code",
   "execution_count": 17,
   "id": "3b2da639-9b78-4634-8d76-e99865f3f399",
   "metadata": {},
   "outputs": [
    {
     "name": "stdout",
     "output_type": "stream",
     "text": [
      "    Unnamed: 0  cgpa     iq  placement Branch  Placement\n",
      "0          0.0   6.8  123.0        1.0     CS        0.0\n",
      "1          1.0   5.9  106.0        0.0     CS        0.0\n",
      "2          2.0   5.3  121.0        0.0    ECE        0.0\n",
      "3          3.0   7.4  132.0        1.0   AIML        0.0\n",
      "4          4.0   5.8  142.0        0.0     CS        0.0\n",
      "5          5.0   7.1   48.0        1.0    ECE        0.0\n",
      "6          6.0   5.7  143.0        0.0    ECE        0.0\n",
      "7          7.0   5.0   63.0        0.0     IT        0.0\n",
      "8          8.0   6.1  156.0        0.0    ECE        0.0\n",
      "9          9.0   5.1   66.0        0.0    MAE        0.0\n",
      "10        10.0   6.0   45.0        1.0     CS        0.0\n",
      "11        11.0   6.9  138.0        1.0    ECE        0.0\n",
      "12        12.0   5.4  139.0        0.0    ECE        0.0\n",
      "13        13.0   6.4  116.0        1.0     CS        0.0\n",
      "14        14.0   6.1  103.0        0.0   AIML        0.0\n",
      "15        15.0   5.1  176.0        0.0   AIML        0.0\n",
      "16        16.0   5.2  224.0        0.0   AIML        0.0\n",
      "17        17.0   3.3  183.0        0.0    ECE        0.0\n",
      "18        18.0   4.0  100.0        0.0     CS        0.0\n",
      "19        19.0   5.2  132.0        0.0   AIML        0.0\n"
     ]
    }
   ],
   "source": [
    "import numpy as np\n",
    "\n",
    "np.random.seed(42)  # for reproducibility\n",
    "\n",
    "# Number of rows\n",
    "n = 100\n",
    "\n",
    "branches = []\n",
    "cgpas = df.loc[0:99, 'cgpa']  # make sure the CGPA column name is correct\n",
    "\n",
    "for cgpa in cgpas:\n",
    "    rand = np.random.rand()\n",
    "    if rand < 0.55:  # 55% CS/IT/AIML\n",
    "        branches.append(np.random.choice(['CS','IT','AIML']))\n",
    "    elif rand < 0.55 + 0.20:  # 20% ECE\n",
    "        branches.append('ECE')\n",
    "    elif rand < 0.55 + 0.20 + 0.10:  # 10% EEE\n",
    "        branches.append('EEE')\n",
    "    else:  # 15% ME/MAE\n",
    "        branches.append(np.random.choice(['ME','MAE']))\n",
    "\n",
    "# Assign to the first 100 rows\n",
    "df.loc[0:99, 'Branch'] = branches\n",
    "\n",
    "# Optionally, set Placement = 1 if CGPA >= 7.5 for the first 100 rows\n",
    "df.loc[0:99, 'Placement'] = np.where(cgpas >= 7.5, 1, 0)\n",
    "\n",
    "# Check the first 20 rows to confirm\n",
    "print(df.loc[0:19])\n"
   ]
  },
  {
   "cell_type": "code",
   "execution_count": 18,
   "id": "4669038b-65f5-49e4-989f-9fa16e1ba5d9",
   "metadata": {},
   "outputs": [
    {
     "name": "stdout",
     "output_type": "stream",
     "text": [
      "     Unnamed: 0  cgpa     iq  placement Branch\n",
      "100       100.0  7.31  136.0        0.0    ECE\n",
      "101       101.0  9.33  149.0        1.0   AIML\n",
      "102       102.0  8.56  144.0        1.0   AIML\n",
      "103       103.0  8.10  140.0        1.0    ECE\n",
      "104       104.0  6.55   97.0        0.0     CS\n",
      "105       105.0  6.55  110.0        0.0   AIML\n",
      "106       106.0  6.20  128.0        0.0    ECE\n",
      "107       107.0  9.03  148.0        1.0     IT\n",
      "108       108.0  8.10  140.0        1.0    MAE\n",
      "109       109.0  8.48  140.0        1.0    ECE\n",
      "110       110.0  6.07  113.0        0.0     IT\n",
      "111       111.0  9.39  150.0        1.0   AIML\n",
      "112       112.0  8.91  133.0        1.0    ECE\n",
      "113       113.0  6.74  129.0        0.0    ECE\n",
      "114       114.0  6.64  113.0        0.0    EEE\n",
      "115       115.0  6.64   92.0        0.0     CS\n",
      "116       116.0  7.06  150.0        0.0     IT\n",
      "117       117.0  7.84  131.0        1.0     IT\n",
      "118       118.0  7.51  141.0        1.0     IT\n",
      "119       119.0  7.02  135.0        0.0     IT\n"
     ]
    }
   ],
   "source": [
    "# Fill missing values in 'placement' with values from 'Placement'\n",
    "df['placement'] = df['placement'].combine_first(df['Placement'])\n",
    "\n",
    "# Drop the redundant 'Placement' column\n",
    "df.drop(columns=['Placement'], inplace=True)\n",
    "\n",
    "# Check the last rows to confirm\n",
    "print(df.tail(20))"
   ]
  },
  {
   "cell_type": "code",
   "execution_count": 19,
   "id": "4312241d-38f2-43aa-a9fa-9adbb2a8483a",
   "metadata": {},
   "outputs": [
    {
     "name": "stdout",
     "output_type": "stream",
     "text": [
      "<class 'pandas.core.frame.DataFrame'>\n",
      "RangeIndex: 120 entries, 0 to 119\n",
      "Data columns (total 5 columns):\n",
      " #   Column      Non-Null Count  Dtype  \n",
      "---  ------      --------------  -----  \n",
      " 0   Unnamed: 0  120 non-null    float64\n",
      " 1   cgpa        120 non-null    float64\n",
      " 2   iq          120 non-null    float64\n",
      " 3   placement   120 non-null    float64\n",
      " 4   Branch      120 non-null    object \n",
      "dtypes: float64(4), object(1)\n",
      "memory usage: 4.8+ KB\n"
     ]
    }
   ],
   "source": [
    "df.info()"
   ]
  },
  {
   "cell_type": "code",
   "execution_count": 20,
   "id": "748f838f-6aee-4ae8-b818-b49bc31a3d19",
   "metadata": {},
   "outputs": [
    {
     "name": "stdout",
     "output_type": "stream",
     "text": [
      "Internship\n",
      "0    69\n",
      "1    51\n",
      "Name: count, dtype: int64\n",
      "Gender\n",
      "Male      95\n",
      "Female    25\n",
      "Name: count, dtype: int64\n",
      "    Unnamed: 0  cgpa     iq  placement Branch  Internship  Gender\n",
      "15        15.0   5.1  176.0        0.0   AIML           1  Female\n",
      "16        16.0   5.2  224.0        0.0   AIML           1  Female\n",
      "19        19.0   5.2  132.0        0.0   AIML           0  Female\n",
      "20        20.0   6.6  120.0        1.0    ECE           1  Female\n",
      "24        24.0   4.7  121.0        0.0     IT           0  Female\n",
      "29        29.0   7.0  112.0        1.0     CS           1  Female\n",
      "30        30.0   7.6  128.0        1.0     IT           1  Female\n",
      "37        37.0   8.1  149.0        1.0    MAE           1  Female\n",
      "45        45.0   6.0   66.0        1.0     CS           1  Female\n",
      "50        50.0   3.5  233.0        0.0    ECE           0  Female\n"
     ]
    }
   ],
   "source": [
    "import numpy as np\n",
    "\n",
    "np.random.seed(42)  # reproducibility\n",
    "\n",
    "# 1. Initialize Internship column with 0\n",
    "df['Internship'] = 0\n",
    "\n",
    "# Find indices where placement = 1\n",
    "placement_1_idx = df.index[df['placement'] == 1].tolist()\n",
    "\n",
    "# Randomly select 70% of these indices to have Internship = 1\n",
    "n_internship = int(0.7 * len(placement_1_idx))\n",
    "internship_1_idx = np.random.choice(placement_1_idx, n_internship, replace=False)\n",
    "\n",
    "# Assign Internship = 1\n",
    "df.loc[internship_1_idx, 'Internship'] = 1\n",
    "\n",
    "# 2. Create Gender column\n",
    "df['Gender'] = 'Male'  # default Male\n",
    "\n",
    "# Randomly choose 25 rows to be Female\n",
    "female_idx = np.random.choice(df.index, 25, replace=False)\n",
    "df.loc[female_idx, 'Gender'] = 'Female'\n",
    "\n",
    "# Among these 25 females, randomly select 17 to have Internship = 1\n",
    "female_internship_idx = np.random.choice(female_idx, 17, replace=False)\n",
    "df.loc[female_internship_idx, 'Internship'] = 1\n",
    "\n",
    "# Check distribution\n",
    "print(df['Internship'].value_counts())\n",
    "print(df['Gender'].value_counts())\n",
    "print(df[df['Gender']=='Female'].head(10))\n"
   ]
  },
  {
   "cell_type": "code",
   "execution_count": 21,
   "id": "fecf2677-d634-425b-b5ad-14e6d5babc81",
   "metadata": {},
   "outputs": [
    {
     "name": "stdout",
     "output_type": "stream",
     "text": [
      "<class 'pandas.core.frame.DataFrame'>\n",
      "RangeIndex: 120 entries, 0 to 119\n",
      "Data columns (total 7 columns):\n",
      " #   Column      Non-Null Count  Dtype  \n",
      "---  ------      --------------  -----  \n",
      " 0   Unnamed: 0  120 non-null    float64\n",
      " 1   cgpa        120 non-null    float64\n",
      " 2   iq          120 non-null    float64\n",
      " 3   placement   120 non-null    float64\n",
      " 4   Branch      120 non-null    object \n",
      " 5   Internship  120 non-null    int64  \n",
      " 6   Gender      120 non-null    object \n",
      "dtypes: float64(4), int64(1), object(2)\n",
      "memory usage: 6.7+ KB\n"
     ]
    }
   ],
   "source": [
    "df.info()"
   ]
  },
  {
   "cell_type": "code",
   "execution_count": 24,
   "id": "de06f2a0-5b12-48e5-90bd-d0dae63f8776",
   "metadata": {},
   "outputs": [
    {
     "data": {
      "text/plain": [
       "<bound method DataFrame.info of      Unnamed: 0  cgpa     iq  placement Branch  Internship Gender\n",
       "0           0.0  6.80  123.0        1.0     CS           1   Male\n",
       "1           1.0  5.90  106.0        0.0     CS           0   Male\n",
       "2           2.0  5.30  121.0        0.0    ECE           0   Male\n",
       "3           3.0  7.40  132.0        1.0   AIML           1   Male\n",
       "4           4.0  5.80  142.0        0.0     CS           0   Male\n",
       "..          ...   ...    ...        ...    ...         ...    ...\n",
       "115       115.0  6.64   92.0        0.0     CS           0   Male\n",
       "116       116.0  7.06  150.0        0.0     IT           0   Male\n",
       "117       117.0  7.84  131.0        1.0     IT           1   Male\n",
       "118       118.0  7.51  141.0        1.0     IT           0   Male\n",
       "119       119.0  7.02  135.0        0.0     IT           0   Male\n",
       "\n",
       "[120 rows x 7 columns]>"
      ]
     },
     "execution_count": 24,
     "metadata": {},
     "output_type": "execute_result"
    }
   ],
   "source": [
    "df.info"
   ]
  },
  {
   "cell_type": "code",
   "execution_count": 25,
   "id": "f4cd63a6-fabf-4c58-b97d-63cc0dd793f2",
   "metadata": {},
   "outputs": [
    {
     "name": "stdout",
     "output_type": "stream",
     "text": [
      "Gender\n",
      "Male      95\n",
      "Female    25\n",
      "Name: count, dtype: int64\n"
     ]
    }
   ],
   "source": [
    "gender_counts = df['Gender'].value_counts()\n",
    "print(gender_counts)"
   ]
  },
  {
   "cell_type": "code",
   "execution_count": 26,
   "id": "3cd9299a-9d28-412b-a43e-da88f3ef4597",
   "metadata": {},
   "outputs": [
    {
     "name": "stdout",
     "output_type": "stream",
     "text": [
      "    Unnamed: 0  cgpa     iq  placement Branch  Internship  Gender  \\\n",
      "0          0.0   6.8  123.0        1.0     CS           1       0   \n",
      "1          1.0   5.9  106.0        0.0     CS           0       0   \n",
      "2          2.0   5.3  121.0        0.0    ECE           0       0   \n",
      "3          3.0   7.4  132.0        1.0   AIML           1       0   \n",
      "4          4.0   5.8  142.0        0.0     CS           0       0   \n",
      "5          5.0   7.1   48.0        1.0    ECE           0       0   \n",
      "6          6.0   5.7  143.0        0.0    ECE           0       0   \n",
      "7          7.0   5.0   63.0        0.0     IT           0       0   \n",
      "8          8.0   6.1  156.0        0.0    ECE           0       0   \n",
      "9          9.0   5.1   66.0        0.0    MAE           0       0   \n",
      "10        10.0   6.0   45.0        1.0     CS           1       0   \n",
      "11        11.0   6.9  138.0        1.0    ECE           1       0   \n",
      "12        12.0   5.4  139.0        0.0    ECE           0       0   \n",
      "13        13.0   6.4  116.0        1.0     CS           1       0   \n",
      "14        14.0   6.1  103.0        0.0   AIML           0       0   \n",
      "15        15.0   5.1  176.0        0.0   AIML           1       1   \n",
      "16        16.0   5.2  224.0        0.0   AIML           1       1   \n",
      "17        17.0   3.3  183.0        0.0    ECE           0       0   \n",
      "18        18.0   4.0  100.0        0.0     CS           0       0   \n",
      "19        19.0   5.2  132.0        0.0   AIML           0       1   \n",
      "\n",
      "    BranchFactor  \n",
      "0              5  \n",
      "1              5  \n",
      "2              4  \n",
      "3              5  \n",
      "4              5  \n",
      "5              4  \n",
      "6              4  \n",
      "7              5  \n",
      "8              4  \n",
      "9              3  \n",
      "10             5  \n",
      "11             4  \n",
      "12             4  \n",
      "13             5  \n",
      "14             5  \n",
      "15             5  \n",
      "16             5  \n",
      "17             4  \n",
      "18             5  \n",
      "19             5  \n"
     ]
    }
   ],
   "source": [
    "# 1. Convert Gender\n",
    "df['Gender'] = df['Gender'].map({'Male': 0, 'Female': 1})\n",
    "\n",
    "# 2. Convert Branch to placement factor\n",
    "branch_mapping = {\n",
    "    'CS': 5,\n",
    "    'IT': 5,\n",
    "    'AIML': 5,\n",
    "    'ECE': 4,\n",
    "    'EEE': 4,\n",
    "    'ME': 3,\n",
    "    'MAE': 3\n",
    "}\n",
    "\n",
    "df['BranchFactor'] = df['Branch'].map(branch_mapping)\n",
    "\n",
    "# Check first 20 rows to confirm\n",
    "print(df.head(20))"
   ]
  },
  {
   "cell_type": "code",
   "execution_count": 27,
   "id": "f4c7d47f-849f-434e-ad94-75005c7f99ae",
   "metadata": {},
   "outputs": [
    {
     "data": {
      "text/plain": [
       "<bound method NDFrame.head of      Unnamed: 0  cgpa     iq  placement Branch  Internship  Gender  \\\n",
       "0           0.0  6.80  123.0        1.0     CS           1       0   \n",
       "1           1.0  5.90  106.0        0.0     CS           0       0   \n",
       "2           2.0  5.30  121.0        0.0    ECE           0       0   \n",
       "3           3.0  7.40  132.0        1.0   AIML           1       0   \n",
       "4           4.0  5.80  142.0        0.0     CS           0       0   \n",
       "..          ...   ...    ...        ...    ...         ...     ...   \n",
       "115       115.0  6.64   92.0        0.0     CS           0       0   \n",
       "116       116.0  7.06  150.0        0.0     IT           0       0   \n",
       "117       117.0  7.84  131.0        1.0     IT           1       0   \n",
       "118       118.0  7.51  141.0        1.0     IT           0       0   \n",
       "119       119.0  7.02  135.0        0.0     IT           0       0   \n",
       "\n",
       "     BranchFactor  \n",
       "0               5  \n",
       "1               5  \n",
       "2               4  \n",
       "3               5  \n",
       "4               5  \n",
       "..            ...  \n",
       "115             5  \n",
       "116             5  \n",
       "117             5  \n",
       "118             5  \n",
       "119             5  \n",
       "\n",
       "[120 rows x 8 columns]>"
      ]
     },
     "execution_count": 27,
     "metadata": {},
     "output_type": "execute_result"
    }
   ],
   "source": [
    "df.head"
   ]
  },
  {
   "cell_type": "code",
   "execution_count": null,
   "id": "befaa863-938a-403d-85c0-e04353af18dc",
   "metadata": {},
   "outputs": [],
   "source": [
    "\n"
   ]
  },
  {
   "cell_type": "code",
   "execution_count": 29,
   "id": "5be13206-254c-4f5d-84b0-16d2cfb5bc84",
   "metadata": {},
   "outputs": [
    {
     "name": "stdout",
     "output_type": "stream",
     "text": [
      "<class 'pandas.core.frame.DataFrame'>\n",
      "RangeIndex: 120 entries, 0 to 119\n",
      "Data columns (total 8 columns):\n",
      " #   Column        Non-Null Count  Dtype  \n",
      "---  ------        --------------  -----  \n",
      " 0   Unnamed: 0    120 non-null    float64\n",
      " 1   cgpa          120 non-null    float64\n",
      " 2   iq            120 non-null    float64\n",
      " 3   placement     120 non-null    float64\n",
      " 4   Branch        120 non-null    object \n",
      " 5   Internship    120 non-null    int64  \n",
      " 6   Gender        120 non-null    int64  \n",
      " 7   BranchFactor  120 non-null    int64  \n",
      "dtypes: float64(4), int64(3), object(1)\n",
      "memory usage: 7.6+ KB\n"
     ]
    }
   ],
   "source": [
    "df.info()"
   ]
  },
  {
   "cell_type": "code",
   "execution_count": 30,
   "id": "b250d31e-65c3-41d3-a37d-e741d97c4596",
   "metadata": {},
   "outputs": [
    {
     "name": "stdout",
     "output_type": "stream",
     "text": [
      "NewPlacement\n",
      "1    96\n",
      "0    24\n",
      "Name: count, dtype: int64\n",
      "    Unnamed: 0  cgpa     iq  placement Branch  Internship  Gender  \\\n",
      "0          0.0   6.8  123.0        1.0     CS           1       0   \n",
      "1          1.0   5.9  106.0        0.0     CS           0       0   \n",
      "2          2.0   5.3  121.0        0.0    ECE           0       0   \n",
      "3          3.0   7.4  132.0        1.0   AIML           1       0   \n",
      "4          4.0   5.8  142.0        0.0     CS           0       0   \n",
      "5          5.0   7.1   48.0        1.0    ECE           0       0   \n",
      "6          6.0   5.7  143.0        0.0    ECE           0       0   \n",
      "7          7.0   5.0   63.0        0.0     IT           0       0   \n",
      "8          8.0   6.1  156.0        0.0    ECE           0       0   \n",
      "9          9.0   5.1   66.0        0.0    MAE           0       0   \n",
      "10        10.0   6.0   45.0        1.0     CS           1       0   \n",
      "11        11.0   6.9  138.0        1.0    ECE           1       0   \n",
      "12        12.0   5.4  139.0        0.0    ECE           0       0   \n",
      "13        13.0   6.4  116.0        1.0     CS           1       0   \n",
      "14        14.0   6.1  103.0        0.0   AIML           0       0   \n",
      "15        15.0   5.1  176.0        0.0   AIML           1       1   \n",
      "16        16.0   5.2  224.0        0.0   AIML           1       1   \n",
      "17        17.0   3.3  183.0        0.0    ECE           0       0   \n",
      "18        18.0   4.0  100.0        0.0     CS           0       0   \n",
      "19        19.0   5.2  132.0        0.0   AIML           0       1   \n",
      "\n",
      "    BranchFactor  Score  NewPlacement  \n",
      "0              5  18.08             1  \n",
      "1              5  16.19             1  \n",
      "2              4  16.63             1  \n",
      "3              5  19.04             1  \n",
      "4              5  19.78             1  \n",
      "5              4   9.51             0  \n",
      "6              4  18.87             1  \n",
      "7              5  11.80             0  \n",
      "8              4  20.21             1  \n",
      "9              3  10.11             0  \n",
      "10             5  10.20             0  \n",
      "11             4  18.59             1  \n",
      "12             4  18.44             1  \n",
      "13             5  17.34             1  \n",
      "14             5  15.91             1  \n",
      "15             5  24.21             1  \n",
      "16             5  29.02             1  \n",
      "17             4  22.63             1  \n",
      "18             5  15.40             1  \n",
      "19             5  19.72             1  \n"
     ]
    }
   ],
   "source": [
    "import numpy as np\n",
    "\n",
    "# 1. Calculate the custom score\n",
    "df['Score'] = (\n",
    "    df['cgpa'] / 10 +\n",
    "    df['iq'] / 10 +\n",
    "    df['Internship'] / 10 +\n",
    "    df['Gender'] +  # 1 for female, 0 for male\n",
    "    df['BranchFactor']\n",
    ")\n",
    "\n",
    "# 2. Find the threshold for top 80%\n",
    "threshold = np.percentile(df['Score'], 20)  # 20th percentile is the cutoff for bottom 20%\n",
    "# So scores >= threshold are top 80%\n",
    "\n",
    "# 3. Create new placement column\n",
    "df['NewPlacement'] = np.where(df['Score'] >= threshold, 1, 0)\n",
    "\n",
    "# 4. Check distribution\n",
    "print(df['NewPlacement'].value_counts())\n",
    "\n",
    "# Optional: see first 20 rows\n",
    "print(df.head(20))\n"
   ]
  },
  {
   "cell_type": "code",
   "execution_count": 31,
   "id": "2941bd9b-57c7-49d0-bc13-09cc3f296468",
   "metadata": {},
   "outputs": [
    {
     "name": "stdout",
     "output_type": "stream",
     "text": [
      "NewPlacement\n",
      "1    96\n",
      "0    24\n",
      "Name: count, dtype: int64\n"
     ]
    }
   ],
   "source": [
    "print(df['NewPlacement'].value_counts())"
   ]
  },
  {
   "cell_type": "code",
   "execution_count": 33,
   "id": "7c11a829-7e7c-44bd-a061-2cf2b26e20d5",
   "metadata": {},
   "outputs": [
    {
     "data": {
      "image/png": "[encoded data removed]",
      "text/plain": [
       "<Figure size 800x600 with 1 Axes>"
      ]
     },
     "metadata": {},
     "output_type": "display_data"
    }
   ],
   "source": [
    "import matplotlib.pyplot as plt\n",
    "import seaborn as sns\n",
    "\n",
    "# Create a bar plot of branch vs count of placed students (NewPlacement = 1)\n",
    "plt.figure(figsize=(8,6))\n",
    "\n",
    "# Count of placed students per branch\n",
    "sns.countplot(x='Branch', hue='NewPlacement', data=df, palette='Set2')\n",
    "\n",
    "plt.title('Placement Distribution by Branch')\n",
    "plt.xlabel('Branch')\n",
    "plt.ylabel('Number of Students')\n",
    "plt.legend(title='New Placement', labels=['Not Placed', 'Placed'])\n",
    "plt.show()\n"
   ]
  },
  {
   "cell_type": "code",
   "execution_count": 34,
   "id": "cfceebdd-7fd0-4bc3-9a7f-ec92ea90ef1b",
   "metadata": {},
   "outputs": [
    {
     "name": "stdout",
     "output_type": "stream",
     "text": [
      "Branch\n",
      "CS      45\n",
      "IT      20\n",
      "ECE     20\n",
      "EE      14\n",
      "AIML     7\n",
      "MAE      7\n",
      "ME       7\n",
      "Name: count, dtype: int64\n",
      "NewPlacement\n",
      "1    80\n",
      "0    40\n",
      "Name: count, dtype: int64\n"
     ]
    }
   ],
   "source": [
    "import numpy as np\n",
    "import pandas as pd\n",
    "\n",
    "np.random.seed(42)\n",
    "\n",
    "# Your current df has 120 rows\n",
    "n = 120\n",
    "\n",
    "# Branch counts (scaled)\n",
    "branch_counts = {\n",
    "    'CS': 28,\n",
    "    'IT': 20,\n",
    "    'ECE': 20,\n",
    "    'AIML': 7,\n",
    "    'MAE': 7,\n",
    "    'EE': 14,\n",
    "    'ME': 7\n",
    "}\n",
    "\n",
    "# Fill branch list\n",
    "branch_list = []\n",
    "for branch, count in branch_counts.items():\n",
    "    branch_list.extend([branch]*count)\n",
    "\n",
    "# If we are short/long, adjust to 120\n",
    "while len(branch_list) < n:\n",
    "    branch_list.append('CS')  # add CS randomly\n",
    "np.random.shuffle(branch_list)\n",
    "\n",
    "df['Branch'] = branch_list\n",
    "\n",
    "# Branch factor mapping\n",
    "branch_factor_map = {'CS':5,'IT':5,'AIML':5,'ECE':4,'EEE':4,'EE':4,'ME':3,'MAE':3}\n",
    "df['BranchFactor'] = df['Branch'].map(branch_factor_map)\n",
    "\n",
    "# Now assign placement based on realistic percentages\n",
    "placement_dict = {\n",
    "    'CS': 0.75, 'IT': 0.75, 'AIML': 0.75,\n",
    "    'ECE': 0.55, 'EE': 0.55,\n",
    "    'ME': 0.35, 'MAE': 0.35\n",
    "}\n",
    "\n",
    "placement = []\n",
    "for b in df['Branch']:\n",
    "    placement.append(np.random.choice([1,0], p=[placement_dict[b], 1-placement_dict[b]]))\n",
    "df['NewPlacement'] = placement\n",
    "\n",
    "# Check counts\n",
    "print(df['Branch'].value_counts())\n",
    "print(df['NewPlacement'].value_counts())\n"
   ]
  },
  {
   "cell_type": "code",
   "execution_count": 35,
   "id": "3a7df368-bcc7-43b2-801c-072a9651b3d9",
   "metadata": {},
   "outputs": [
    {
     "data": {
      "text/html": [
       "<div>\n",
       "<style scoped>\n",
       "    .dataframe tbody tr th:only-of-type {\n",
       "        vertical-align: middle;\n",
       "    }\n",
       "\n",
       "    .dataframe tbody tr th {\n",
       "        vertical-align: top;\n",
       "    }\n",
       "\n",
       "    .dataframe thead th {\n",
       "        text-align: right;\n",
       "    }\n",
       "</style>\n",
       "<table border=\"1\" class=\"dataframe\">\n",
       "  <thead>\n",
       "    <tr style=\"text-align: right;\">\n",
       "      <th></th>\n",
       "      <th>Unnamed: 0</th>\n",
       "      <th>cgpa</th>\n",
       "      <th>iq</th>\n",
       "      <th>placement</th>\n",
       "      <th>Branch</th>\n",
       "      <th>Internship</th>\n",
       "      <th>Gender</th>\n",
       "      <th>BranchFactor</th>\n",
       "      <th>Score</th>\n",
       "      <th>NewPlacement</th>\n",
       "    </tr>\n",
       "  </thead>\n",
       "  <tbody>\n",
       "    <tr>\n",
       "      <th>0</th>\n",
       "      <td>0.0</td>\n",
       "      <td>6.8</td>\n",
       "      <td>123.0</td>\n",
       "      <td>1.0</td>\n",
       "      <td>IT</td>\n",
       "      <td>1</td>\n",
       "      <td>0</td>\n",
       "      <td>5</td>\n",
       "      <td>18.08</td>\n",
       "      <td>1</td>\n",
       "    </tr>\n",
       "    <tr>\n",
       "      <th>1</th>\n",
       "      <td>1.0</td>\n",
       "      <td>5.9</td>\n",
       "      <td>106.0</td>\n",
       "      <td>0.0</td>\n",
       "      <td>IT</td>\n",
       "      <td>0</td>\n",
       "      <td>0</td>\n",
       "      <td>5</td>\n",
       "      <td>16.19</td>\n",
       "      <td>1</td>\n",
       "    </tr>\n",
       "    <tr>\n",
       "      <th>2</th>\n",
       "      <td>2.0</td>\n",
       "      <td>5.3</td>\n",
       "      <td>121.0</td>\n",
       "      <td>0.0</td>\n",
       "      <td>CS</td>\n",
       "      <td>0</td>\n",
       "      <td>0</td>\n",
       "      <td>5</td>\n",
       "      <td>16.63</td>\n",
       "      <td>0</td>\n",
       "    </tr>\n",
       "    <tr>\n",
       "      <th>3</th>\n",
       "      <td>3.0</td>\n",
       "      <td>7.4</td>\n",
       "      <td>132.0</td>\n",
       "      <td>1.0</td>\n",
       "      <td>ECE</td>\n",
       "      <td>1</td>\n",
       "      <td>0</td>\n",
       "      <td>4</td>\n",
       "      <td>19.04</td>\n",
       "      <td>0</td>\n",
       "    </tr>\n",
       "    <tr>\n",
       "      <th>4</th>\n",
       "      <td>4.0</td>\n",
       "      <td>5.8</td>\n",
       "      <td>142.0</td>\n",
       "      <td>0.0</td>\n",
       "      <td>CS</td>\n",
       "      <td>0</td>\n",
       "      <td>0</td>\n",
       "      <td>5</td>\n",
       "      <td>19.78</td>\n",
       "      <td>1</td>\n",
       "    </tr>\n",
       "  </tbody>\n",
       "</table>\n",
       "</div>"
      ],
      "text/plain": [
       "   Unnamed: 0  cgpa     iq  placement Branch  Internship  Gender  \\\n",
       "0         0.0   6.8  123.0        1.0     IT           1       0   \n",
       "1         1.0   5.9  106.0        0.0     IT           0       0   \n",
       "2         2.0   5.3  121.0        0.0     CS           0       0   \n",
       "3         3.0   7.4  132.0        1.0    ECE           1       0   \n",
       "4         4.0   5.8  142.0        0.0     CS           0       0   \n",
       "\n",
       "   BranchFactor  Score  NewPlacement  \n",
       "0             5  18.08             1  \n",
       "1             5  16.19             1  \n",
       "2             5  16.63             0  \n",
       "3             4  19.04             0  \n",
       "4             5  19.78             1  "
      ]
     },
     "execution_count": 35,
     "metadata": {},
     "output_type": "execute_result"
    }
   ],
   "source": [
    "df.head()"
   ]
  },
  {
   "cell_type": "code",
   "execution_count": 36,
   "id": "bc7f5344-1d5b-4798-b665-cede052ca6ea",
   "metadata": {},
   "outputs": [
    {
     "name": "stdout",
     "output_type": "stream",
     "text": [
      "Branch\n",
      "CS      45\n",
      "IT      20\n",
      "ECE     20\n",
      "EE      14\n",
      "AIML     7\n",
      "MAE      7\n",
      "ME       7\n",
      "Name: count, dtype: int64\n"
     ]
    }
   ],
   "source": [
    "branch_counts = df['Branch'].value_counts()\n",
    "print(branch_counts)"
   ]
  },
  {
   "cell_type": "code",
   "execution_count": 37,
   "id": "c6b3653b-f1ec-4ad1-af31-7c03a49cd2ed",
   "metadata": {},
   "outputs": [
    {
     "name": "stdout",
     "output_type": "stream",
     "text": [
      "    Unnamed: 0  cgpa   iq  placement Branch  Internship  Gender  BranchFactor  \\\n",
      "0          0.0  8.87  150        1.0     IT           0       0             5   \n",
      "1          1.0  9.10  149        0.0     IT           1       0             5   \n",
      "2          2.0  7.56  137        0.0     CS           0       0             5   \n",
      "3          3.0  6.18  112        1.0    ECE           1       0             4   \n",
      "4          4.0  9.47  145        0.0     CS           1       0             5   \n",
      "5          5.0  8.49  125        1.0    ECE           1       0             4   \n",
      "6          6.0  9.02  148        0.0   AIML           1       0             5   \n",
      "7          7.0  9.11  149        0.0     CS           1       0             5   \n",
      "8          8.0  9.47  142        0.0     IT           1       0             5   \n",
      "9          9.0  9.48  148        0.0     CS           1       0             5   \n",
      "10        10.0  8.11  134        1.0     CS           0       0             5   \n",
      "11        11.0  7.27  133        1.0    ECE           0       0             4   \n",
      "12        12.0  9.31  148        0.0     CS           1       0             5   \n",
      "13        13.0  8.73  146        1.0     IT           1       0             5   \n",
      "14        14.0  7.04  112        0.0     EE           0       0             4   \n",
      "15        15.0  6.32  117        0.0     EE           0       1             4   \n",
      "16        16.0  7.93  135        0.0     CS           0       1             5   \n",
      "17        17.0  8.68  141        0.0     CS           0       0             5   \n",
      "18        18.0  8.42  138        0.0     EE           0       0             4   \n",
      "19        19.0  9.23  147        0.0     CS           1       1             5   \n",
      "\n",
      "    Score  NewPlacement  \n",
      "0   18.08             1  \n",
      "1   16.19             1  \n",
      "2   16.63             0  \n",
      "3   19.04             0  \n",
      "4   19.78             1  \n",
      "5    9.51             1  \n",
      "6   18.87             1  \n",
      "7   11.80             1  \n",
      "8   20.21             1  \n",
      "9   10.11             1  \n",
      "10  10.20             0  \n",
      "11  18.59             1  \n",
      "12  18.44             1  \n",
      "13  17.34             1  \n",
      "14  15.91             0  \n",
      "15  24.21             0  \n",
      "16  29.02             0  \n",
      "17  22.63             1  \n",
      "18  15.40             1  \n",
      "19  19.72             1  \n",
      "    Branch  cgpa   iq  NewPlacement  Internship  Gender\n",
      "100    ECE  6.87  120             0           0       1\n",
      "101     CS  9.05  149             1           0       0\n",
      "102     CS  9.31  148             1           1       0\n",
      "103     CS  8.58  146             1           1       0\n",
      "104     CS  8.30  130             0           1       1\n",
      "105     ME  6.00  113             0           0       0\n",
      "106     EE  7.67  136             1           1       0\n",
      "107     CS  8.94  145             1           1       1\n",
      "108   AIML  7.66  135             0           0       1\n",
      "109     EE  6.04  113             0           1       0\n",
      "110     EE  7.63  135             1           1       1\n",
      "111     CS  9.02  144             1           1       0\n",
      "112     CS  9.47  146             1           1       0\n",
      "113    ECE  6.06  113             0           0       0\n",
      "114   AIML  8.20  137             0           0       0\n",
      "115     CS  9.48  149             1           1       0\n",
      "116     CS  9.30  142             1           1       0\n",
      "117     EE  7.35  129             1           1       0\n",
      "118    ECE  6.10  124             0           0       0\n",
      "119     ME  6.01  109             0           0       0\n"
     ]
    }
   ],
   "source": [
    "import numpy as np\n",
    "np.random.seed(42)\n",
    "\n",
    "# Initialize columns\n",
    "df['cgpa'] = 0.0\n",
    "df['iq'] = 0\n",
    "df['Internship'] = 0\n",
    "\n",
    "# Assign CGPA, IQ, Internship based on branch and placement\n",
    "for i, row in df.iterrows():\n",
    "    branch = row['Branch']\n",
    "    placed = row['NewPlacement']\n",
    "    \n",
    "    # Branch-wise CGPA and IQ ranges\n",
    "    if branch in ['CS','IT','AIML']:\n",
    "        cgpa_low, cgpa_high = 7.5, 9.5\n",
    "        iq_low, iq_high = 130, 150\n",
    "    elif branch in ['ECE','EE']:\n",
    "        cgpa_low, cgpa_high = 6.0, 8.5\n",
    "        iq_low, iq_high = 110, 140\n",
    "    else:  # ME/MAE\n",
    "        cgpa_low, cgpa_high = 5.5, 8.0\n",
    "        iq_low, iq_high = 100, 130\n",
    "    \n",
    "    # Adjust CGPA/IQ slightly based on placement\n",
    "    if placed == 1:\n",
    "        cgpa = np.round(np.random.uniform((cgpa_low+cgpa_high)/2, cgpa_high), 2)\n",
    "        iq = np.random.randint(int((iq_low+iq_high)/2), iq_high+1)\n",
    "    else:\n",
    "        cgpa = np.round(np.random.uniform(cgpa_low, (cgpa_low+cgpa_high)/2), 2)\n",
    "        iq = np.random.randint(iq_low, int((iq_low+iq_high)/2)+1)\n",
    "    \n",
    "    df.at[i, 'cgpa'] = cgpa\n",
    "    df.at[i, 'iq'] = iq\n",
    "    \n",
    "    # Internship probability\n",
    "    if placed == 1:\n",
    "        prob = 0.7\n",
    "        # Slightly higher if female\n",
    "        if df.at[i, 'Gender'] == 1:\n",
    "            prob += 0.1\n",
    "    else:\n",
    "        prob = 0.15\n",
    "    df.at[i, 'Internship'] = np.random.choice([1,0], p=[prob, 1-prob])\n",
    "\n",
    "# Quick check\n",
    "print(df.head(20))\n",
    "print(df[['Branch','cgpa','iq','NewPlacement','Internship','Gender']].tail(20))\n"
   ]
  },
  {
   "cell_type": "code",
   "execution_count": 38,
   "id": "69d0f31d-4948-4d21-b7d3-a15955409664",
   "metadata": {},
   "outputs": [
    {
     "name": "stdout",
     "output_type": "stream",
     "text": [
      "Index(['Unnamed: 0', 'cgpa', 'iq', 'placement', 'Branch', 'BranchFactor',\n",
      "       'Score'],\n",
      "      dtype='object')\n"
     ]
    }
   ],
   "source": [
    "# Drop the old columns\n",
    "df = df.drop(columns=['Gender', 'Internship', 'NewPlacement'])\n",
    "\n",
    "# Check remaining columns\n",
    "print(df.columns)"
   ]
  },
  {
   "cell_type": "code",
   "execution_count": 39,
   "id": "c1b99b76-43a6-48ff-94c1-31acef7fffab",
   "metadata": {},
   "outputs": [
    {
     "name": "stdout",
     "output_type": "stream",
     "text": [
      "<class 'pandas.core.frame.DataFrame'>\n",
      "RangeIndex: 120 entries, 0 to 119\n",
      "Data columns (total 7 columns):\n",
      " #   Column        Non-Null Count  Dtype  \n",
      "---  ------        --------------  -----  \n",
      " 0   Unnamed: 0    120 non-null    float64\n",
      " 1   cgpa          120 non-null    float64\n",
      " 2   iq            120 non-null    int64  \n",
      " 3   placement     120 non-null    float64\n",
      " 4   Branch        120 non-null    object \n",
      " 5   BranchFactor  120 non-null    int64  \n",
      " 6   Score         120 non-null    float64\n",
      "dtypes: float64(4), int64(2), object(1)\n",
      "memory usage: 6.7+ KB\n"
     ]
    }
   ],
   "source": [
    "df.info()"
   ]
  },
  {
   "cell_type": "code",
   "execution_count": 40,
   "id": "23d1ffd6-ca32-4f8d-bb78-cd63a6e3ea25",
   "metadata": {},
   "outputs": [
    {
     "name": "stdout",
     "output_type": "stream",
     "text": [
      "Index(['Unnamed: 0', 'cgpa', 'iq', 'placement', 'Branch', 'BranchFactor',\n",
      "       'Score'],\n",
      "      dtype='object')\n",
      "Index(['Unnamed: 0', 'cgpa', 'iq', 'placement', 'Branch', 'BranchFactor',\n",
      "       'Score'],\n",
      "      dtype='object')\n"
     ]
    }
   ],
   "source": [
    "# Check column names first\n",
    "print(df.columns)\n",
    "\n",
    "# Drop only the old duplicates, keep the main 'NewPlacement'\n",
    "df = df.drop(columns=[col for col in ['Gender','Internship','NewPlacement'] if col in df.columns and col != 'NewPlacement'])\n",
    "\n",
    "# Confirm columns\n",
    "print(df.columns)"
   ]
  },
  {
   "cell_type": "code",
   "execution_count": 41,
   "id": "d9a8d718-fdf1-44ca-8979-ca6578764a90",
   "metadata": {},
   "outputs": [
    {
     "name": "stdout",
     "output_type": "stream",
     "text": [
      "NewPlacement\n",
      "1    96\n",
      "0    24\n",
      "Name: count, dtype: int64\n"
     ]
    }
   ],
   "source": [
    "import numpy as np\n",
    "\n",
    "# Compute custom score\n",
    "df['Score'] = (\n",
    "    df['cgpa']/10 +\n",
    "    df['iq']/10 +\n",
    "    df['placement']/10 +  # if you want to include the old placement\n",
    "    df['BranchFactor']\n",
    ")\n",
    "\n",
    "# Determine top 80% cutoff\n",
    "threshold = np.percentile(df['Score'], 20)  # bottom 20% are 0, top 80% = 1\n",
    "\n",
    "# Recreate NewPlacement column\n",
    "df['NewPlacement'] = np.where(df['Score'] >= threshold, 1, 0)\n",
    "\n",
    "# Check distribution\n",
    "print(df['NewPlacement'].value_counts())\n"
   ]
  },
  {
   "cell_type": "code",
   "execution_count": 42,
   "id": "3a0d5241-519d-4de5-b8f6-c24b58f4bcd1",
   "metadata": {},
   "outputs": [
    {
     "name": "stdout",
     "output_type": "stream",
     "text": [
      "<class 'pandas.core.frame.DataFrame'>\n",
      "RangeIndex: 120 entries, 0 to 119\n",
      "Data columns (total 8 columns):\n",
      " #   Column        Non-Null Count  Dtype  \n",
      "---  ------        --------------  -----  \n",
      " 0   Unnamed: 0    120 non-null    float64\n",
      " 1   cgpa          120 non-null    float64\n",
      " 2   iq            120 non-null    int64  \n",
      " 3   placement     120 non-null    float64\n",
      " 4   Branch        120 non-null    object \n",
      " 5   BranchFactor  120 non-null    int64  \n",
      " 6   Score         120 non-null    float64\n",
      " 7   NewPlacement  120 non-null    int32  \n",
      "dtypes: float64(4), int32(1), int64(2), object(1)\n",
      "memory usage: 7.2+ KB\n"
     ]
    }
   ],
   "source": [
    "df.info()"
   ]
  },
  {
   "cell_type": "code",
   "execution_count": 43,
   "id": "4c8862b9-4a0d-40e2-a383-faf8be90a2d3",
   "metadata": {},
   "outputs": [
    {
     "data": {
      "text/plain": [
       "<bound method NDFrame.describe of      Unnamed: 0  cgpa   iq  placement Branch  BranchFactor   Score  \\\n",
       "0           0.0  8.87  150        1.0     IT             5  20.987   \n",
       "1           1.0  9.10  149        0.0     IT             5  20.810   \n",
       "2           2.0  7.56  137        0.0     CS             5  19.456   \n",
       "3           3.0  6.18  112        1.0    ECE             4  15.918   \n",
       "4           4.0  9.47  145        0.0     CS             5  20.447   \n",
       "..          ...   ...  ...        ...    ...           ...     ...   \n",
       "115       115.0  9.48  149        0.0     CS             5  20.848   \n",
       "116       116.0  9.30  142        0.0     CS             5  20.130   \n",
       "117       117.0  7.35  129        1.0     EE             4  17.735   \n",
       "118       118.0  6.10  124        1.0    ECE             4  17.110   \n",
       "119       119.0  6.01  109        0.0     ME             3  14.501   \n",
       "\n",
       "     NewPlacement  \n",
       "0               1  \n",
       "1               1  \n",
       "2               1  \n",
       "3               0  \n",
       "4               1  \n",
       "..            ...  \n",
       "115             1  \n",
       "116             1  \n",
       "117             1  \n",
       "118             1  \n",
       "119             0  \n",
       "\n",
       "[120 rows x 8 columns]>"
      ]
     },
     "execution_count": 43,
     "metadata": {},
     "output_type": "execute_result"
    }
   ],
   "source": [
    "df.describe"
   ]
  },
  {
   "cell_type": "code",
   "execution_count": 44,
   "id": "62e6e41d-c63a-4835-9933-b3c72161821e",
   "metadata": {},
   "outputs": [
    {
     "data": {
      "text/html": [
       "<div>\n",
       "<style scoped>\n",
       "    .dataframe tbody tr th:only-of-type {\n",
       "        vertical-align: middle;\n",
       "    }\n",
       "\n",
       "    .dataframe tbody tr th {\n",
       "        vertical-align: top;\n",
       "    }\n",
       "\n",
       "    .dataframe thead th {\n",
       "        text-align: right;\n",
       "    }\n",
       "</style>\n",
       "<table border=\"1\" class=\"dataframe\">\n",
       "  <thead>\n",
       "    <tr style=\"text-align: right;\">\n",
       "      <th></th>\n",
       "      <th>Unnamed: 0</th>\n",
       "      <th>cgpa</th>\n",
       "      <th>iq</th>\n",
       "      <th>placement</th>\n",
       "      <th>Branch</th>\n",
       "      <th>BranchFactor</th>\n",
       "      <th>Score</th>\n",
       "      <th>NewPlacement</th>\n",
       "    </tr>\n",
       "  </thead>\n",
       "  <tbody>\n",
       "    <tr>\n",
       "      <th>0</th>\n",
       "      <td>0.0</td>\n",
       "      <td>8.87</td>\n",
       "      <td>150</td>\n",
       "      <td>1.0</td>\n",
       "      <td>IT</td>\n",
       "      <td>5</td>\n",
       "      <td>20.987</td>\n",
       "      <td>1</td>\n",
       "    </tr>\n",
       "    <tr>\n",
       "      <th>1</th>\n",
       "      <td>1.0</td>\n",
       "      <td>9.10</td>\n",
       "      <td>149</td>\n",
       "      <td>0.0</td>\n",
       "      <td>IT</td>\n",
       "      <td>5</td>\n",
       "      <td>20.810</td>\n",
       "      <td>1</td>\n",
       "    </tr>\n",
       "    <tr>\n",
       "      <th>2</th>\n",
       "      <td>2.0</td>\n",
       "      <td>7.56</td>\n",
       "      <td>137</td>\n",
       "      <td>0.0</td>\n",
       "      <td>CS</td>\n",
       "      <td>5</td>\n",
       "      <td>19.456</td>\n",
       "      <td>1</td>\n",
       "    </tr>\n",
       "    <tr>\n",
       "      <th>3</th>\n",
       "      <td>3.0</td>\n",
       "      <td>6.18</td>\n",
       "      <td>112</td>\n",
       "      <td>1.0</td>\n",
       "      <td>ECE</td>\n",
       "      <td>4</td>\n",
       "      <td>15.918</td>\n",
       "      <td>0</td>\n",
       "    </tr>\n",
       "    <tr>\n",
       "      <th>4</th>\n",
       "      <td>4.0</td>\n",
       "      <td>9.47</td>\n",
       "      <td>145</td>\n",
       "      <td>0.0</td>\n",
       "      <td>CS</td>\n",
       "      <td>5</td>\n",
       "      <td>20.447</td>\n",
       "      <td>1</td>\n",
       "    </tr>\n",
       "  </tbody>\n",
       "</table>\n",
       "</div>"
      ],
      "text/plain": [
       "   Unnamed: 0  cgpa   iq  placement Branch  BranchFactor   Score  NewPlacement\n",
       "0         0.0  8.87  150        1.0     IT             5  20.987             1\n",
       "1         1.0  9.10  149        0.0     IT             5  20.810             1\n",
       "2         2.0  7.56  137        0.0     CS             5  19.456             1\n",
       "3         3.0  6.18  112        1.0    ECE             4  15.918             0\n",
       "4         4.0  9.47  145        0.0     CS             5  20.447             1"
      ]
     },
     "execution_count": 44,
     "metadata": {},
     "output_type": "execute_result"
    }
   ],
   "source": [
    "df.head()"
   ]
  },
  {
   "cell_type": "code",
   "execution_count": 45,
   "id": "fd8a85e2-ea0f-4284-bd83-d95843f959a9",
   "metadata": {},
   "outputs": [
    {
     "name": "stdout",
     "output_type": "stream",
     "text": [
      "Index(['Unnamed: 0', 'cgpa', 'iq', 'Branch', 'BranchFactor', 'Score',\n",
      "       'NewPlacement'],\n",
      "      dtype='object')\n"
     ]
    }
   ],
   "source": [
    "# Drop the placement column\n",
    "df = df.drop(columns=['placement'])\n",
    "\n",
    "# Confirm the columns left\n",
    "print(df.columns)"
   ]
  },
  {
   "cell_type": "code",
   "execution_count": 46,
   "id": "eb072a24-e4b8-4d32-8dd9-bb2c5955a2b3",
   "metadata": {},
   "outputs": [
    {
     "data": {
      "image/png": "[encoded data removed]",
      "text/plain": [
       "<Figure size 800x600 with 1 Axes>"
      ]
     },
     "metadata": {},
     "output_type": "display_data"
    }
   ],
   "source": [
    "import matplotlib.pyplot as plt\n",
    "import seaborn as sns\n",
    "\n",
    "plt.figure(figsize=(8,6))\n",
    "\n",
    "# Count of placed vs not placed students per branch\n",
    "sns.countplot(x='Branch', hue='NewPlacement', data=df, palette='Set2')\n",
    "\n",
    "plt.title('Placement Distribution by Branch')\n",
    "plt.xlabel('Branch')\n",
    "plt.ylabel('Number of Students')\n",
    "plt.legend(title='Placement', labels=['Not Placed', 'Placed'])\n",
    "plt.show()\n"
   ]
  },
  {
   "cell_type": "code",
   "execution_count": 47,
   "id": "0736bcdf-9808-4deb-a049-8d156c51f4e6",
   "metadata": {},
   "outputs": [
    {
     "name": "stdout",
     "output_type": "stream",
     "text": [
      "Placement percentages per branch to meet 80% overall:\n",
      "{'MAE': 0.6, 'ME': 0.6, 'ECE': 0.75, 'EE': 0.75, 'CS': 0.875, 'IT': 0.875, 'AIML': 0.875}\n"
     ]
    }
   ],
   "source": [
    "import numpy as np\n",
    "\n",
    "np.random.seed(42)\n",
    "\n",
    "# Count of students per branch\n",
    "branch_counts = df['Branch'].value_counts()\n",
    "\n",
    "# Desired placement %\n",
    "placement_percent = {\n",
    "    'MAE': 0.6,\n",
    "    'ME': 0.6,\n",
    "    'ECE': 0.75,\n",
    "    'EE': 0.75,\n",
    "    'CS': None,   # to be calculated\n",
    "    'IT': None,\n",
    "    'AIML': None\n",
    "}\n",
    "\n",
    "# Total students and target placed students\n",
    "total_students = len(df)\n",
    "target_total_placement = int(0.8 * total_students)  # 80% of 120 = 96\n",
    "\n",
    "# Number of students placed in fixed branches\n",
    "placed_fixed = 0\n",
    "for branch, pct in placement_percent.items():\n",
    "    if pct is not None:\n",
    "        count = branch_counts[branch]\n",
    "        placed_fixed += int(np.round(count * pct))\n",
    "\n",
    "# Remaining placements to reach 96\n",
    "remaining_placement = target_total_placement - placed_fixed\n",
    "\n",
    "# Total students in CS/IT/AIML\n",
    "cs_it_aiml_count = sum([branch_counts[b] for b in ['CS','IT','AIML']])\n",
    "\n",
    "# Placement % for CS/IT/AIML to meet overall 80%\n",
    "cs_it_aiml_pct = remaining_placement / cs_it_aiml_count\n",
    "placement_percent['CS'] = cs_it_aiml_pct\n",
    "placement_percent['IT'] = cs_it_aiml_pct\n",
    "placement_percent['AIML'] = cs_it_aiml_pct\n",
    "\n",
    "print(\"Placement percentages per branch to meet 80% overall:\")\n",
    "print(placement_percent)\n"
   ]
  },
  {
   "cell_type": "code",
   "execution_count": 48,
   "id": "594f0220-b40f-42fc-b315-dc08baf9e3ea",
   "metadata": {},
   "outputs": [
    {
     "name": "stdout",
     "output_type": "stream",
     "text": [
      "Total placed: 96\n",
      "Placement per branch:\n",
      " Branch\n",
      "AIML    0.857143\n",
      "CS      0.866667\n",
      "ECE     0.750000\n",
      "EE      0.714286\n",
      "IT      0.900000\n",
      "MAE     0.571429\n",
      "ME      0.571429\n",
      "Name: NewPlacement, dtype: float64\n"
     ]
    }
   ],
   "source": [
    "# Initialize NewPlacement column\n",
    "df['NewPlacement'] = 0\n",
    "\n",
    "# Assign placement\n",
    "for branch, pct in placement_percent.items():\n",
    "    branch_idx = df[df['Branch'] == branch].index\n",
    "    n_placed = int(np.round(len(branch_idx) * pct))\n",
    "    placed_idx = np.random.choice(branch_idx, n_placed, replace=False)\n",
    "    df.loc[placed_idx, 'NewPlacement'] = 1\n",
    "\n",
    "# Check overall placement\n",
    "print(\"Total placed:\", df['NewPlacement'].sum())\n",
    "print(\"Placement per branch:\\n\", df.groupby('Branch')['NewPlacement'].mean())\n"
   ]
  },
  {
   "cell_type": "code",
   "execution_count": 49,
   "id": "314497bd-effd-4b1e-a352-339dd7144e2c",
   "metadata": {},
   "outputs": [
    {
     "name": "stdout",
     "output_type": "stream",
     "text": [
      "   Branch  cgpa   iq  Gender  Internship  BranchFactor   Score  NewPlacement\n",
      "0      IT  8.87  150       1           1             5  21.987             1\n",
      "1      IT  9.10  149       0           1             5  20.910             1\n",
      "2      CS  7.56  137       0           0             5  19.456             1\n",
      "3     ECE  6.18  112       0           1             4  15.918             1\n",
      "4      CS  9.47  145       1           1             5  21.547             1\n",
      "5     ECE  8.49  125       0           1             4  17.449             1\n",
      "6    AIML  9.02  148       0           0             5  20.702             0\n",
      "7      CS  9.11  149       0           1             5  20.911             1\n",
      "8      IT  9.47  142       0           0             5  20.147             1\n",
      "9      CS  9.48  148       0           0             5  20.748             0\n",
      "10     CS  8.11  134       1           0             5  20.211             1\n",
      "11    ECE  7.27  133       1           0             4  19.027             0\n",
      "12     CS  9.31  148       0           1             5  20.831             1\n",
      "13     IT  8.73  146       0           0             5  20.473             1\n",
      "14     EE  7.04  112       0           0             4  15.904             1\n",
      "15     EE  6.32  117       0           1             4  16.432             1\n",
      "16     CS  7.93  135       0           0             5  19.293             1\n",
      "17     CS  8.68  141       0           1             5  20.068             1\n",
      "18     EE  8.42  138       1           0             4  19.642             0\n",
      "19     CS  9.23  147       0           0             5  20.623             0\n",
      "Overall placed students: 96\n"
     ]
    }
   ],
   "source": [
    "import numpy as np\n",
    "\n",
    "np.random.seed(42)\n",
    "\n",
    "# 1. Re-generate Gender (if not present, we assume same as before)\n",
    "# Keep 25 females in total\n",
    "df['Gender'] = 0  # default Male\n",
    "female_idx = np.random.choice(df.index, 25, replace=False)\n",
    "df.loc[female_idx, 'Gender'] = 1  # Female = 1\n",
    "\n",
    "# 2. Re-generate Internship based on NewPlacement and Gender\n",
    "df['Internship'] = 0\n",
    "for i, row in df.iterrows():\n",
    "    placed = row['NewPlacement']\n",
    "    if placed == 1:\n",
    "        prob = 0.7\n",
    "        if row['Gender'] == 1:\n",
    "            prob += 0.1\n",
    "    else:\n",
    "        prob = 0.15\n",
    "    df.at[i, 'Internship'] = np.random.choice([1,0], p=[prob, 1-prob])\n",
    "\n",
    "# 3. Recalculate Score\n",
    "df['Score'] = (\n",
    "    df['cgpa']/10 +\n",
    "    df['iq']/10 +\n",
    "    df['Internship']/10 +\n",
    "    df['Gender'] +\n",
    "    df['BranchFactor']\n",
    ")\n",
    "\n",
    "# Check\n",
    "print(df[['Branch','cgpa','iq','Gender','Internship','BranchFactor','Score','NewPlacement']].head(20))\n",
    "print(\"Overall placed students:\", df['NewPlacement'].sum())\n"
   ]
  },
  {
   "cell_type": "code",
   "execution_count": 50,
   "id": "cb19fe19-7e33-49a2-8ead-422732f3fc5d",
   "metadata": {},
   "outputs": [
    {
     "name": "stdout",
     "output_type": "stream",
     "text": [
      "       Unnamed: 0        cgpa          iq  BranchFactor       Score  \\\n",
      "count  120.000000  120.000000  120.000000    120.000000  120.000000   \n",
      "mean    59.500000    8.135083  134.875000      4.483333   19.050175   \n",
      "std     34.785054    1.056978   11.995491      0.697936    1.939433   \n",
      "min      0.000000    5.780000  105.000000      3.000000   14.214000   \n",
      "25%     29.750000    7.540000  127.750000      4.000000   17.502250   \n",
      "50%     59.500000    8.300000  139.000000      5.000000   19.831000   \n",
      "75%     89.250000    9.020000  144.250000      5.000000   20.550000   \n",
      "max    119.000000    9.490000  150.000000      5.000000   21.987000   \n",
      "\n",
      "       NewPlacement      Gender  Internship  \n",
      "count    120.000000  120.000000  120.000000  \n",
      "mean       0.800000    0.208333    0.575000  \n",
      "std        0.401677    0.407819    0.496416  \n",
      "min        0.000000    0.000000    0.000000  \n",
      "25%        1.000000    0.000000    0.000000  \n",
      "50%        1.000000    0.000000    1.000000  \n",
      "75%        1.000000    0.000000    1.000000  \n",
      "max        1.000000    1.000000    1.000000  \n",
      "Unnamed: 0 → Min: 0.0, Max: 119.0, Unique values: [0. 1. 2. 3. 4. 5. 6. 7. 8. 9.]...\n",
      "cgpa → Min: 5.78, Max: 9.49, Unique values: [8.87 9.1  7.56 6.18 9.47 8.49 9.02 9.11 9.48 8.11]...\n",
      "iq → Min: 105, Max: 150, Unique values: [150 149 137 112 145 125 148 142 134 133]...\n",
      "Branch → Min: AIML, Max: ME, Unique values: ['IT' 'CS' 'ECE' 'AIML' 'EE' 'MAE' 'ME']\n",
      "BranchFactor → Min: 3, Max: 5, Unique values: [5 4 3]\n",
      "Score → Min: 14.214, Max: 21.987000000000002, Unique values: [21.987 20.91  19.456 15.918 21.547 17.449 20.702 20.911 20.147 20.748]...\n",
      "NewPlacement → Min: 0, Max: 1, Unique values: [1 0]\n",
      "Gender → Min: 0, Max: 1, Unique values: [1 0]\n",
      "Internship → Min: 0, Max: 1, Unique values: [1 0]\n"
     ]
    }
   ],
   "source": [
    "# Summary statistics (min, max, mean, etc.)\n",
    "print(df.describe())\n",
    "\n",
    "# For categorical/numeric mix, check unique values per column\n",
    "for col in df.columns:\n",
    "    unique_vals = df[col].unique()\n",
    "    print(f\"{col} → Min: {df[col].min()}, Max: {df[col].max()}, Unique values: {unique_vals[:10]}{'...' if len(unique_vals)>10 else ''}\")\n"
   ]
  },
  {
   "cell_type": "code",
   "execution_count": 51,
   "id": "472b6b47-5e61-4097-9365-987eb3578b78",
   "metadata": {},
   "outputs": [
    {
     "data": {
      "image/png": "[encoded data removed]",
      "text/plain": [
       "<Figure size 800x600 with 1 Axes>"
      ]
     },
     "metadata": {},
     "output_type": "display_data"
    }
   ],
   "source": [
    "import matplotlib.pyplot as plt\n",
    "import seaborn as sns\n",
    "\n",
    "plt.figure(figsize=(8,6))\n",
    "\n",
    "# Count of placed vs not placed students per branch\n",
    "sns.countplot(x='Branch', hue='NewPlacement', data=df, palette='Set2')\n",
    "\n",
    "plt.title('Placement Distribution by Branch')\n",
    "plt.xlabel('Branch')\n",
    "plt.ylabel('Number of Students')\n",
    "plt.legend(title='Placement', labels=['Not Placed', 'Placed'])\n",
    "plt.show()\n"
   ]
  },
  {
   "cell_type": "code",
   "execution_count": 52,
   "id": "50d5e2d2-9763-4e6a-882d-cfe1563e1952",
   "metadata": {},
   "outputs": [
    {
     "name": "stdout",
     "output_type": "stream",
     "text": [
      "Accuracy: 0.8333333333333334\n",
      "\n",
      "Confusion Matrix:\n",
      " [[ 2  3]\n",
      " [ 1 18]]\n",
      "\n",
      "Classification Report:\n",
      "               precision    recall  f1-score   support\n",
      "\n",
      "           0       0.67      0.40      0.50         5\n",
      "           1       0.86      0.95      0.90        19\n",
      "\n",
      "    accuracy                           0.83        24\n",
      "   macro avg       0.76      0.67      0.70        24\n",
      "weighted avg       0.82      0.83      0.82        24\n",
      "\n"
     ]
    }
   ],
   "source": [
    "from sklearn.model_selection import train_test_split\n",
    "from sklearn.ensemble import RandomForestClassifier\n",
    "from sklearn.metrics import classification_report, confusion_matrix, accuracy_score\n",
    "\n",
    "# Features and target\n",
    "features = ['cgpa', 'iq', 'Gender', 'Internship', 'BranchFactor', 'Score']\n",
    "X = df[features]\n",
    "y = df['NewPlacement']\n",
    "\n",
    "# Split data: 80% train, 20% test\n",
    "X_train, X_test, y_train, y_test = train_test_split(X, y, test_size=0.2, random_state=42)\n",
    "\n",
    "# Initialize Random Forest\n",
    "rf_model = RandomForestClassifier(n_estimators=100, random_state=42)\n",
    "\n",
    "# Train the model\n",
    "rf_model.fit(X_train, y_train)\n",
    "\n",
    "# Predictions\n",
    "y_pred = rf_model.predict(X_test)\n",
    "\n",
    "# Evaluation\n",
    "print(\"Accuracy:\", accuracy_score(y_test, y_pred))\n",
    "print(\"\\nConfusion Matrix:\\n\", confusion_matrix(y_test, y_pred))\n",
    "print(\"\\nClassification Report:\\n\", classification_report(y_test, y_pred))\n"
   ]
  },
  {
   "cell_type": "code",
   "execution_count": 53,
   "id": "d4f6725b-352e-4430-a13c-47768e757013",
   "metadata": {},
   "outputs": [
    {
     "name": "stdout",
     "output_type": "stream",
     "text": [
      "Predicted NewPlacement: 1\n",
      "Probability of Not Placed / Placed: [0.19 0.81]\n"
     ]
    }
   ],
   "source": [
    "import pandas as pd\n",
    "\n",
    "# Single student data\n",
    "student_data = pd.DataFrame([{\n",
    "    'cgpa': 7.8,\n",
    "    'iq': 128,\n",
    "    'Gender': 0,\n",
    "    'Internship': 1,\n",
    "    'BranchFactor': 4,\n",
    "    'Score': 17.68\n",
    "}])\n",
    "\n",
    "# Predict placement\n",
    "placement_pred = rf_model.predict(student_data)\n",
    "placement_prob = rf_model.predict_proba(student_data)\n",
    "\n",
    "print(\"Predicted NewPlacement:\", placement_pred[0])\n",
    "print(\"Probability of Not Placed / Placed:\", placement_prob[0])"
   ]
  },
  {
   "cell_type": "code",
   "execution_count": 54,
   "id": "a686825b-ab55-4ff9-a280-d53dbe32fc80",
   "metadata": {},
   "outputs": [
    {
     "name": "stdout",
     "output_type": "stream",
     "text": [
      "Fitting 5 folds for each of 216 candidates, totalling 1080 fits\n",
      "Best Hyperparameters: {'class_weight': None, 'max_depth': None, 'min_samples_leaf': 1, 'min_samples_split': 10, 'n_estimators': 100}\n",
      "Best Cross-Validated Accuracy: 0.8333333333333334\n",
      "              precision    recall  f1-score   support\n",
      "\n",
      "           0       1.00      0.54      0.70        24\n",
      "           1       0.90      1.00      0.95        96\n",
      "\n",
      "    accuracy                           0.91       120\n",
      "   macro avg       0.95      0.77      0.82       120\n",
      "weighted avg       0.92      0.91      0.90       120\n",
      "\n"
     ]
    }
   ],
   "source": [
    "from sklearn.model_selection import GridSearchCV\n",
    "from sklearn.ensemble import RandomForestClassifier\n",
    "\n",
    "# Features and target\n",
    "X = df[features]  # ['cgpa', 'iq', 'Gender', 'Internship', 'BranchFactor', 'Score']\n",
    "y = df['NewPlacement']\n",
    "\n",
    "# Initialize Random Forest\n",
    "rf = RandomForestClassifier(random_state=42)\n",
    "\n",
    "# Hyperparameter grid\n",
    "param_grid = {\n",
    "    'n_estimators': [100, 200, 300],\n",
    "    'max_depth': [None, 5, 10, 15],\n",
    "    'min_samples_split': [2, 5, 10],\n",
    "    'min_samples_leaf': [1, 2, 4],\n",
    "    'class_weight': [None, 'balanced']\n",
    "}\n",
    "\n",
    "# Grid search with 5-fold cross-validation\n",
    "grid_search = GridSearchCV(estimator=rf, param_grid=param_grid, \n",
    "                           cv=5, scoring='accuracy', n_jobs=-1, verbose=2)\n",
    "\n",
    "# Fit grid search\n",
    "grid_search.fit(X, y)\n",
    "\n",
    "# Best parameters and best score\n",
    "print(\"Best Hyperparameters:\", grid_search.best_params_)\n",
    "print(\"Best Cross-Validated Accuracy:\", grid_search.best_score_)\n",
    "\n",
    "# Use best estimator\n",
    "best_rf = grid_search.best_estimator_\n",
    "\n",
    "# Evaluate on training set (or do a train/test split if you prefer)\n",
    "y_pred = best_rf.predict(X)\n",
    "from sklearn.metrics import classification_report\n",
    "print(classification_report(y, y_pred))\n"
   ]
  },
  {
   "cell_type": "code",
   "execution_count": 55,
   "id": "acf6f9bd-7d54-479f-913c-443fc84dd058",
   "metadata": {},
   "outputs": [
    {
     "name": "stdout",
     "output_type": "stream",
     "text": [
      "Accuracy without Score: 0.875\n",
      "\n",
      "Confusion Matrix:\n",
      " [[ 3  2]\n",
      " [ 1 18]]\n",
      "\n",
      "Classification Report:\n",
      "               precision    recall  f1-score   support\n",
      "\n",
      "           0       0.75      0.60      0.67         5\n",
      "           1       0.90      0.95      0.92        19\n",
      "\n",
      "    accuracy                           0.88        24\n",
      "   macro avg       0.82      0.77      0.79        24\n",
      "weighted avg       0.87      0.88      0.87        24\n",
      "\n"
     ]
    }
   ],
   "source": [
    "from sklearn.model_selection import train_test_split\n",
    "from sklearn.ensemble import RandomForestClassifier\n",
    "from sklearn.metrics import classification_report, confusion_matrix, accuracy_score\n",
    "\n",
    "# Features without 'Score'\n",
    "features_no_score = ['cgpa', 'iq', 'Gender', 'Internship', 'BranchFactor']\n",
    "X = df[features_no_score]\n",
    "y = df['NewPlacement']\n",
    "\n",
    "# Split data: 80% train, 20% test\n",
    "X_train, X_test, y_train, y_test = train_test_split(X, y, test_size=0.2, random_state=42)\n",
    "\n",
    "# Train Random Forest\n",
    "rf_model_no_score = RandomForestClassifier(n_estimators=200, max_depth=None, class_weight='balanced', random_state=42)\n",
    "rf_model_no_score.fit(X_train, y_train)\n",
    "\n",
    "# Predictions\n",
    "y_pred = rf_model_no_score.predict(X_test)\n",
    "\n",
    "# Accuracy and evaluation\n",
    "accuracy = accuracy_score(y_test, y_pred)\n",
    "conf_matrix = confusion_matrix(y_test, y_pred)\n",
    "class_report = classification_report(y_test, y_pred)\n",
    "\n",
    "print(\"Accuracy without Score:\", accuracy)\n",
    "print(\"\\nConfusion Matrix:\\n\", conf_matrix)\n",
    "print(\"\\nClassification Report:\\n\", class_report)\n"
   ]
  },
  {
   "cell_type": "code",
   "execution_count": 56,
   "id": "48d177cd-d5a7-478b-80ed-4c14395e0356",
   "metadata": {},
   "outputs": [
    {
     "name": "stdout",
     "output_type": "stream",
     "text": [
      "Fitting 5 folds for each of 108 candidates, totalling 540 fits\n",
      "Best Hyperparameters: {'max_depth': None, 'min_samples_leaf': 2, 'min_samples_split': 2, 'n_estimators': 300}\n",
      "Best Cross-Validated Accuracy: 0.8416666666666668\n",
      "\n",
      "Classification Report:\n",
      "               precision    recall  f1-score   support\n",
      "\n",
      "           0       0.85      0.96      0.90        24\n",
      "           1       0.99      0.96      0.97        96\n",
      "\n",
      "    accuracy                           0.96       120\n",
      "   macro avg       0.92      0.96      0.94       120\n",
      "weighted avg       0.96      0.96      0.96       120\n",
      "\n"
     ]
    }
   ],
   "source": [
    "from sklearn.model_selection import GridSearchCV\n",
    "from sklearn.ensemble import RandomForestClassifier\n",
    "from sklearn.metrics import classification_report, accuracy_score\n",
    "\n",
    "# Features and target\n",
    "features_no_score = ['cgpa', 'iq', 'Gender', 'Internship', 'BranchFactor']\n",
    "X = df[features_no_score]\n",
    "y = df['NewPlacement']\n",
    "\n",
    "# Initialize Random Forest\n",
    "rf = RandomForestClassifier(random_state=42, class_weight='balanced')\n",
    "\n",
    "# Hyperparameter grid\n",
    "param_grid = {\n",
    "    'n_estimators': [100, 200, 300],\n",
    "    'max_depth': [None, 5, 10, 15],\n",
    "    'min_samples_split': [2, 5, 10],\n",
    "    'min_samples_leaf': [1, 2, 4]\n",
    "}\n",
    "\n",
    "# Grid search with 5-fold cross-validation\n",
    "grid_search = GridSearchCV(estimator=rf, param_grid=param_grid, \n",
    "                           cv=5, scoring='accuracy', n_jobs=-1, verbose=2)\n",
    "\n",
    "# Fit grid search\n",
    "grid_search.fit(X, y)\n",
    "\n",
    "# Best parameters and cross-validated accuracy\n",
    "print(\"Best Hyperparameters:\", grid_search.best_params_)\n",
    "print(\"Best Cross-Validated Accuracy:\", grid_search.best_score_)\n",
    "\n",
    "# Use best estimator\n",
    "best_rf = grid_search.best_estimator_\n",
    "\n",
    "# Evaluate on full dataset (or you can split train/test)\n",
    "y_pred = best_rf.predict(X)\n",
    "print(\"\\nClassification Report:\\n\", classification_report(y, y_pred))\n"
   ]
  },
  {
   "cell_type": "code",
   "execution_count": 57,
   "id": "4bfba27d-4cdc-46bd-a30b-bc714f0721da",
   "metadata": {},
   "outputs": [
    {
     "name": "stdout",
     "output_type": "stream",
     "text": [
      "  Branch  cgpa   iq  Gender  Internship  BranchFactor   Score\n",
      "0     CS  7.00  147       0           1             5  20.500\n",
      "1     IT  7.89  116       0           0             5  17.389\n",
      "2   AIML  8.96  126       1           1             5  19.596\n",
      "3    ECE  5.73  133       1           0             4  18.873\n",
      "4     EE  6.23  101       1           1             4  15.823\n",
      "5     ME  5.53   91       0           1             3  12.753\n",
      "6    MAE  6.06  107       1           0             3  15.306\n"
     ]
    }
   ],
   "source": [
    "import pandas as pd\n",
    "import numpy as np\n",
    "\n",
    "np.random.seed(42)\n",
    "\n",
    "# Branch info: BranchFactor\n",
    "branch_info = {\n",
    "    'CS': 5,\n",
    "    'IT': 5,\n",
    "    'AIML': 5,\n",
    "    'ECE': 4,\n",
    "    'EE': 4,\n",
    "    'ME': 3,\n",
    "    'MAE': 3\n",
    "}\n",
    "\n",
    "# Generate random student data for each branch\n",
    "student_list = []\n",
    "for branch, bf in branch_info.items():\n",
    "    cgpa = round(np.random.uniform(5.5, 9.5), 2)       # realistic CGPA\n",
    "    iq = int(np.random.uniform(90, 150))               # realistic IQ\n",
    "    gender = np.random.choice([0, 1])                  # 0 = Male, 1 = Female\n",
    "    internship = np.random.choice([0, 1], p=[0.3, 0.7])  # higher chance if placed\n",
    "    score = (cgpa / 10) + (iq / 10) + (internship / 10) + gender + bf\n",
    "    \n",
    "    student_list.append({\n",
    "        'Branch': branch,\n",
    "        'cgpa': cgpa,\n",
    "        'iq': iq,\n",
    "        'Gender': gender,\n",
    "        'Internship': internship,\n",
    "        'BranchFactor': bf,\n",
    "        'Score': score\n",
    "    })\n",
    "\n",
    "# Convert to DataFrame\n",
    "student_df = pd.DataFrame(student_list)\n",
    "print(student_df)\n"
   ]
  },
  {
   "cell_type": "code",
   "execution_count": 58,
   "id": "6863f329-87ae-43f0-b4a9-99fbece6fad5",
   "metadata": {},
   "outputs": [],
   "source": [
    "X_test = student_df[['cgpa', 'iq', 'Gender', 'Internship', 'BranchFactor']]"
   ]
  },
  {
   "cell_type": "code",
   "execution_count": 59,
   "id": "3959f3c8-6262-485d-bedb-1fc2f3e45c62",
   "metadata": {},
   "outputs": [
    {
     "name": "stdout",
     "output_type": "stream",
     "text": [
      "  Branch  cgpa   iq  Gender  Internship  BranchFactor  PredictedPlacement  \\\n",
      "0     CS  7.00  147       0           1             5                   1   \n",
      "1     IT  7.89  116       0           0             5                   1   \n",
      "2   AIML  8.96  126       1           1             5                   1   \n",
      "3    ECE  5.73  133       1           0             4                   0   \n",
      "4     EE  6.23  101       1           1             4                   1   \n",
      "5     ME  5.53   91       0           1             3                   1   \n",
      "6    MAE  6.06  107       1           0             3                   0   \n",
      "\n",
      "   PlacementProbability  \n",
      "0              0.708177  \n",
      "1              0.650391  \n",
      "2              0.923374  \n",
      "3              0.425253  \n",
      "4              0.969672  \n",
      "5              0.833035  \n",
      "6              0.335196  \n"
     ]
    }
   ],
   "source": [
    "# Predict placement (0 or 1)\n",
    "student_df['PredictedPlacement'] = best_rf.predict(X_test)\n",
    "\n",
    "# Predict probability of placement\n",
    "student_df['PlacementProbability'] = best_rf.predict_proba(X_test)[:,1]  # probability of being placed\n",
    "\n",
    "# Show the results\n",
    "print(student_df[['Branch','cgpa','iq','Gender','Internship','BranchFactor','PredictedPlacement','PlacementProbability']])"
   ]
  },
  {
   "cell_type": "code",
   "execution_count": 60,
   "id": "8ed27203-4e45-4a72-a6ce-45cbd45c78cb",
   "metadata": {},
   "outputs": [],
   "source": [
    "import joblib\n"
   ]
  },
  {
   "cell_type": "code",
   "execution_count": 61,
   "id": "2874a804-3358-489b-a14e-c9f5d5b310a4",
   "metadata": {},
   "outputs": [
    {
     "name": "stdout",
     "output_type": "stream",
     "text": [
      "Model saved as placement_model.pkl\n"
     ]
    }
   ],
   "source": [
    "# Save the trained Random Forest model\n",
    "joblib.dump(best_rf, 'placement_model.pkl')\n",
    "print(\"Model saved as placement_model.pkl\")\n"
   ]
  },
  {
   "cell_type": "code",
   "execution_count": null,
   "id": "15456d9e-0ae4-41e0-86d7-b2157f57f535",
   "metadata": {},
   "outputs": [],
   "source": []
  }
 ],
 "metadata": {
  "kernelspec": {
   "display_name": "Python 3 (ipykernel)",
   "language": "python",
   "name": "python3"
  },
  "language_info": {
   "codemirror_mode": {
    "name": "ipython",
    "version": 3
   },
   "file_extension": ".py",
   "mimetype": "text/x-python",
   "name": "python",
   "nbconvert_exporter": "python",
   "pygments_lexer": "ipython3",
   "version": "3.12.4"
  }
 },
 "nbformat": 4,
 "nbformat_minor": 5
}
